{
 "cells": [
  {
   "cell_type": "code",
   "execution_count": null,
   "metadata": {},
   "outputs": [],
   "source": [
    "#### day objectives\n",
    " - python data structures\n",
    "    - lists\n",
    "    - tuples\n",
    "    - dictionaries\n",
    " - basic program sets on data structures\n",
    " - advanced problem set\n",
    " - contact application(dictionary objects)\n",
    " \n",
    " ### data structures\n",
    "  - to store,search sort the data"
   ]
  },
  {
   "cell_type": "markdown",
   "metadata": {},
   "source": [
    "### python data structures\n",
    "#### lists\n",
    " - it is one of common data structure by python,the list items are seperated by comma operator and enclosed in square brackets\n",
    "   - example :\n",
    "     - list1 = [1,6,2,18,9]\n",
    "     - list2 = [\"gitam\",10,12,15,5,\"hyderabad\"]"
   ]
  },
  {
   "cell_type": "code",
   "execution_count": 1,
   "metadata": {},
   "outputs": [
    {
     "name": "stdout",
     "output_type": "stream",
     "text": [
      "[1, 8, 16, 9, 2]\n",
      "1\n",
      "8\n",
      "2\n",
      "9\n",
      "[8, 16, 9, 2]\n",
      "[8, 16, 9]\n"
     ]
    }
   ],
   "source": [
    "lst = [1,8,16,9,2]\n",
    "print(lst)\n",
    "print(lst[0])\n",
    "print(lst[1])\n",
    "print(lst[-1])\n",
    "print(lst[-2])\n",
    "print(lst[1:])\n",
    "print(lst[1:4])"
   ]
  },
  {
   "cell_type": "code",
   "execution_count": 2,
   "metadata": {},
   "outputs": [
    {
     "data": {
      "text/plain": [
       "list"
      ]
     },
     "execution_count": 2,
     "metadata": {},
     "output_type": "execute_result"
    }
   ],
   "source": [
    "list"
   ]
  },
  {
   "cell_type": "code",
   "execution_count": 3,
   "metadata": {},
   "outputs": [
    {
     "name": "stdout",
     "output_type": "stream",
     "text": [
      "['gitam', 'python', 1989, 2002]\n",
      "['gitam', 'python', 2019, 2002]\n"
     ]
    }
   ],
   "source": [
    "li = [\"gitam\",\"python\",1989,2002]\n",
    "print(li)\n",
    "li[2] = 2019\n",
    "print(li)"
   ]
  },
  {
   "cell_type": "code",
   "execution_count": 5,
   "metadata": {},
   "outputs": [
    {
     "name": "stdout",
     "output_type": "stream",
     "text": [
      "['gitam', 'python', 2002]\n",
      "['gitam', 'python']\n"
     ]
    }
   ],
   "source": [
    "# delete the specific item in the list\n",
    "print(li)\n",
    "del li[2]\n",
    "print(li)"
   ]
  },
  {
   "cell_type": "code",
   "execution_count": 9,
   "metadata": {},
   "outputs": [
    {
     "name": "stdout",
     "output_type": "stream",
     "text": [
      "5\n",
      "[1, 9, 6, 18, 2, 1, 9, 6, 18, 2]\n",
      "5\n",
      "True\n",
      "False\n",
      "1 9 6 18 2 "
     ]
    }
   ],
   "source": [
    "# basic list operation\n",
    "lst1 = [1,9,6,18,2]\n",
    "print(len(lst1))\n",
    "print(lst1 * 2)\n",
    "print(len(lst1))\n",
    "print(9 in lst1)\n",
    "print(15 in lst1)\n",
    "# access the list items using iteration\n",
    "for x in range(len(lst1)):\n",
    "    print(lst1[x],end=\" \")\n"
   ]
  },
  {
   "cell_type": "code",
   "execution_count": 13,
   "metadata": {},
   "outputs": [
    {
     "name": "stdout",
     "output_type": "stream",
     "text": [
      "1\n",
      "18\n",
      "36\n",
      "7\n",
      "13.5\n"
     ]
    }
   ],
   "source": [
    "# function of the list\n",
    "lst1\n",
    "print(min(lst1))\n",
    "print(max(lst1))\n",
    "print(sum(lst1))\n",
    "print(sum(lst1)//len(lst1))\n",
    "print(sum(lst1[1::2])/len(lst1[1::2]))"
   ]
  },
  {
   "cell_type": "code",
   "execution_count": 18,
   "metadata": {},
   "outputs": [
    {
     "data": {
      "text/plain": [
       "[45, 23, 56, 56, 45, 24, 24, 24, 23, 18, 9, 1]"
      ]
     },
     "execution_count": 18,
     "metadata": {},
     "output_type": "execute_result"
    }
   ],
   "source": [
    "# methods of list objects\n",
    "lst1\n",
    "lst1.append(24)\n",
    "lst1\n",
    "lst1.insert(2,56)\n",
    "lst1\n",
    "lst1.count(18)\n",
    "lst1.index(56)\n",
    "lst1.sort()\n",
    "lst1\n",
    "lst1.pop()\n",
    "lst1\n",
    "lst1.pop(1)\n",
    "lst2 = [123,23,45]\n",
    "lst1.extend(lst2)\n",
    "lst1.reverse()\n",
    "lst1.remove(123)\n",
    "lst1"
   ]
  },
  {
   "cell_type": "code",
   "execution_count": 17,
   "metadata": {},
   "outputs": [
    {
     "name": "stdout",
     "output_type": "stream",
     "text": [
      "[3, 2, 9]\n"
     ]
    }
   ],
   "source": [
    "li = [1,9,8,2,6,3]\n",
    "print(li[-1:0:-2])\n"
   ]
  },
  {
   "cell_type": "code",
   "execution_count": 19,
   "metadata": {},
   "outputs": [
    {
     "data": {
      "text/plain": [
       "[45, 23, 56, 56, 45, 24, 24, 24, 23, 18, 9, 1]"
      ]
     },
     "execution_count": 19,
     "metadata": {},
     "output_type": "execute_result"
    }
   ],
   "source": [
    "lst1\n"
   ]
  },
  {
   "cell_type": "code",
   "execution_count": 26,
   "metadata": {},
   "outputs": [
    {
     "data": {
      "text/plain": [
       "6"
      ]
     },
     "execution_count": 26,
     "metadata": {},
     "output_type": "execute_result"
    }
   ],
   "source": [
    "# function to find the second large item in a list\n",
    "# input : [1,19,6,2,18,3] \n",
    "# output : 18\n",
    "def secondlarge(li):\n",
    "    li = [1,19,6,2,18,3]\n",
    "    li.sort()\n",
    "    return li[-2]\n",
    "def genericlarge(li,n):\n",
    "    li.sort()\n",
    "    return li[-n]\n",
    "li = [1,19,6,2,8,18,3]\n",
    "genericlarge(li,4)\n",
    "\n",
    "\n"
   ]
  },
  {
   "cell_type": "code",
   "execution_count": 2,
   "metadata": {},
   "outputs": [
    {
     "data": {
      "text/plain": [
       "8"
      ]
     },
     "execution_count": 2,
     "metadata": {},
     "output_type": "execute_result"
    }
   ],
   "source": [
    "li =  [1,9,8,2,6,3]\n",
    "def secondlarge(li):      \n",
    "    li.sort()\n",
    "    return li[-2]\n",
    "secondlarge(li)"
   ]
  },
  {
   "cell_type": "code",
   "execution_count": 7,
   "metadata": {},
   "outputs": [
    {
     "name": "stdout",
     "output_type": "stream",
     "text": [
      "1 9 19 22 "
     ]
    }
   ],
   "source": [
    "# function\n",
    "# input : list\n",
    "# output : formatted output\n",
    "# test class :\n",
    "def linearsearch(lst):\n",
    "    for x in range (len(lst)):\n",
    "        if x == 0 or x == len(lst)-1:\n",
    "            print(lst[x],end = \" \")\n",
    "        elif lst[x-1] % 2 == 0 and lst[x+1] % 2 == 0:\n",
    "            print(lst[x],end = \" \")\n",
    "    return\n",
    "lst = [1,6,9,4,16,19,22]\n",
    "linearsearch(lst)"
   ]
  },
  {
   "cell_type": "markdown",
   "metadata": {},
   "source": [
    "### number to list\n",
    " \n",
    " \n",
    " - input as number\n",
    " - expected output will be list\n",
    " "
   ]
  },
  {
   "cell_type": "code",
   "execution_count": 11,
   "metadata": {},
   "outputs": [
    {
     "data": {
      "text/plain": [
       "[1, 4, 5, 6, 9]"
      ]
     },
     "execution_count": 11,
     "metadata": {},
     "output_type": "execute_result"
    }
   ],
   "source": [
    "# function for conversion\n",
    "# input -- number \n",
    "# output -- list \n",
    "# test cases :-\n",
    "# 14569 -- [1,4,5,6,9]\n",
    "# 1990 -- [1,9,9,0]\n",
    "def numberlistconversion(n):\n",
    "    li = []\n",
    "    while n != 0:\n",
    "        r = n % 10\n",
    "        li.append(r)\n",
    "        n = n // 10\n",
    "    li.reverse()\n",
    "    return li\n",
    "numberlistconversion(14569)"
   ]
  },
  {
   "cell_type": "code",
   "execution_count": null,
   "metadata": {},
   "outputs": [],
   "source": [
    "# function to the occurance of a cikharecter in a string\n",
    "# \"python prrogramming\", p -> 2\n",
    "# \"python programming\", m -> 2\n",
    "def countcharoccurence(s,c):\n",
    "    cnt = 0\n",
    "    for ch in s :\n",
    "        if ch == c:\n",
    "    return cnt\n",
    "def "
   ]
  }
 ],
 "metadata": {
  "kernelspec": {
   "display_name": "Python 3",
   "language": "python",
   "name": "python3"
  },
  "language_info": {
   "codemirror_mode": {
    "name": "ipython",
    "version": 3
   },
   "file_extension": ".py",
   "mimetype": "text/x-python",
   "name": "python",
   "nbconvert_exporter": "python",
   "pygments_lexer": "ipython3",
   "version": "3.7.3"
  }
 },
 "nbformat": 4,
 "nbformat_minor": 2
}
