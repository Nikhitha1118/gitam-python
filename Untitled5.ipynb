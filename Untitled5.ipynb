{
 "cells": [
  {
   "cell_type": "markdown",
   "metadata": {},
   "source": [
    "### standard libraries\n",
    " - file i/o\n",
    " - regular expressions\n",
    " - datetime\n",
    " - math(numerical and mathematical\n",
    " "
   ]
  },
  {
   "cell_type": "markdown",
   "metadata": {},
   "source": [
    "### file handling in python\n",
    " - file:- document containing information resides on the permanent storage\n",
    " - different types of files:-txt,doc,pdf,csv and etc...\n",
    " - input -- keyboard\n",
    " - output -- file\n",
    " ### modes of the file i/o\n",
    " -'w'--this mode is used to file writing\n",
    " \n",
    "       --if the file is not present first it creates the file and write so me data to it"
   ]
  },
  {
   "cell_type": "code",
   "execution_count": 2,
   "metadata": {},
   "outputs": [
    {
     "name": "stdout",
     "output_type": "stream",
     "text": [
      "file is created and data has written\n"
     ]
    }
   ],
   "source": [
    "# function to create a file and write on the file\n",
    "def createfile(filename):\n",
    "    f = open(filename,'w')\n",
    "    for i in range(10):\n",
    "        f.write(\"this is %d line\"% i)\n",
    "    print(\"file is created and data has written\")\n",
    "    return\n",
    "createfile(\"file1.txt\")"
   ]
  },
  {
   "cell_type": "code",
   "execution_count": 3,
   "metadata": {},
   "outputs": [
    {
     "name": "stdout",
     "output_type": "stream",
     "text": [
      " Volume in drive C has no label.\n",
      " Volume Serial Number is C092-631F\n",
      "\n",
      " Directory of C:\\Users\\SYS-57\\Desktop\\python\n",
      "\n",
      "11-07-2019  09:33    <DIR>          .\n",
      "11-07-2019  09:33    <DIR>          ..\n",
      "05-07-2019  16:15             9,377 .ipynb\n",
      "11-07-2019  09:12    <DIR>          .ipynb_checkpoints\n",
      "06-07-2019  11:46             6,777 basics.ipynb\n",
      "11-07-2019  09:33               140 file1.txt\n",
      "05-07-2019  15:06             6,958 Untitled.ipynb\n",
      "08-07-2019  15:34            12,632 Untitled1.ipynb\n",
      "09-07-2019  15:19             8,465 Untitled2.ipynb\n",
      "11-07-2019  09:15            10,541 Untitled3.ipynb\n",
      "10-07-2019  15:10             1,886 Untitled4.ipynb\n",
      "11-07-2019  09:32             1,515 Untitled5.ipynb\n",
      "               9 File(s)         58,291 bytes\n",
      "               3 Dir(s)  73,659,629,568 bytes free\n"
     ]
    }
   ],
   "source": [
    "ls\n"
   ]
  },
  {
   "cell_type": "code",
   "execution_count": 8,
   "metadata": {},
   "outputs": [
    {
     "name": "stdout",
     "output_type": "stream",
     "text": [
      "file is created and data has written\n"
     ]
    }
   ],
   "source": [
    "def createfile(filename):\n",
    "    f = open(filename,'w')\n",
    "    f.write('testing...\\n')\n",
    "    print(\"file is created and data has written\")\n",
    "    return\n",
    "createfile('file1.txt')"
   ]
  },
  {
   "cell_type": "code",
   "execution_count": 10,
   "metadata": {},
   "outputs": [
    {
     "name": "stdout",
     "output_type": "stream",
     "text": [
      "file created and successfully data written\n"
     ]
    }
   ],
   "source": [
    "def appenddata(filename):\n",
    "    f = open(filename,'a')\n",
    "    for i in range(10):\n",
    "        f.write(\"this is %d line\\n\" % i)\n",
    "    print(\"file created and successfully data written\")\n",
    "    return\n",
    "appenddata(\"file2.txt\")"
   ]
  },
  {
   "cell_type": "code",
   "execution_count": 11,
   "metadata": {},
   "outputs": [
    {
     "name": "stdout",
     "output_type": "stream",
     "text": [
      "file created and succesfully data written\n"
     ]
    }
   ],
   "source": [
    "def appenddata(filename):\n",
    "    f = open(filename,'a')\n",
    "    f.write(\"new line 1 \\n\")\n",
    "    f.write(\"new line 2 \\n\")\n",
    "    print(\"file created and succesfully data written\")\n",
    "    return\n",
    "appenddata('file2.txt')"
   ]
  },
  {
   "cell_type": "code",
   "execution_count": 12,
   "metadata": {},
   "outputs": [
    {
     "name": "stdout",
     "output_type": "stream",
     "text": [
      "this is 0 line\n",
      "this is 1 line\n",
      "this is 2 line\n",
      "this is 3 line\n",
      "this is 4 line\n",
      "this is 5 line\n",
      "this is 6 line\n",
      "this is 7 line\n",
      "this is 8 line\n",
      "this is 9 line\n",
      "new line 1 \n",
      "new line 2 \n",
      "\n"
     ]
    }
   ],
   "source": [
    "#function to read of the file\n",
    "def readfiledata(filename):\n",
    "    f = open(filename,'r')\n",
    "    if f.mode == 'r':\n",
    "        x = f.read()\n",
    "        print(x)\n",
    "    f.close()\n",
    "    return\n",
    "readfiledata('file2.txt')"
   ]
  },
  {
   "cell_type": "code",
   "execution_count": 1,
   "metadata": {},
   "outputs": [
    {
     "name": "stdout",
     "output_type": "stream",
     "text": [
      "enter the filenamefile2.txt\n",
      "enter the mode of the filea\n",
      "the data succesfully written\n"
     ]
    }
   ],
   "source": [
    "# function to read the file\n",
    "def fileoperations(filename,mode):\n",
    "    with open(filename,mode) as f:\n",
    "        if f.mode == 'r':\n",
    "            data = f.read()\n",
    "            print(data)\n",
    "        elif f.mode =='a':\n",
    "            f.write('data to the file')\n",
    "            print('the data succesfully written')\n",
    "        f.close()\n",
    "        return\n",
    "filename = input('enter the filename')\n",
    "mode = input('enter the mode of the file')\n",
    "fileoperations(filename,mode)"
   ]
  },
  {
   "cell_type": "code",
   "execution_count": 3,
   "metadata": {},
   "outputs": [
    {
     "name": "stdout",
     "output_type": "stream",
     "text": [
      "enter the file name : file2.txt\n",
      "enter the word : this\n"
     ]
    },
    {
     "data": {
      "text/plain": [
       "10"
      ]
     },
     "execution_count": 3,
     "metadata": {},
     "output_type": "execute_result"
    }
   ],
   "source": [
    "# data analysis\n",
    "# word count program\n",
    "def wordcount(filename,word):\n",
    "    with open(filename,'r') as f:\n",
    "        if f.mode == 'r':\n",
    "            x = f.read()\n",
    "            li = x.split()\n",
    "    cnt = li.count(word)\n",
    "    return cnt\n",
    "filename = input('enter the file name : ')\n",
    "word = input('enter the word : ')\n",
    "wordcount(filename,word)"
   ]
  },
  {
   "cell_type": "code",
   "execution_count": 2,
   "metadata": {},
   "outputs": [
    {
     "name": "stdout",
     "output_type": "stream",
     "text": [
      "enter the fileneme : file2.txt\n"
     ]
    },
    {
     "data": {
      "text/plain": [
       "190"
      ]
     },
     "execution_count": 2,
     "metadata": {},
     "output_type": "execute_result"
    }
   ],
   "source": [
    "# character count from the given file\n",
    "def charcount( filename):\n",
    "    with open(filename,'r') as f:\n",
    "        if f.mode == 'r':\n",
    "            x = f.read()\n",
    "            li = list(x)\n",
    "    return len(x)\n",
    "filename = input('enter the fileneme : ')    \n",
    "charcount(filename)"
   ]
  },
  {
   "cell_type": "code",
   "execution_count": 3,
   "metadata": {},
   "outputs": [
    {
     "name": "stdout",
     "output_type": "stream",
     "text": [
      "['python progr', 'mming']\n"
     ]
    }
   ],
   "source": [
    "s1 = 'python programming'\n",
    "print(s1.split('a'))"
   ]
  },
  {
   "cell_type": "code",
   "execution_count": 9,
   "metadata": {},
   "outputs": [
    {
     "name": "stdout",
     "output_type": "stream",
     "text": [
      "enter the filename :file2.txt\n"
     ]
    },
    {
     "data": {
      "text/plain": [
       "13"
      ]
     },
     "execution_count": 9,
     "metadata": {},
     "output_type": "execute_result"
    }
   ],
   "source": [
    "def countoflines(filename):\n",
    "    with open(filename,'r') as f:\n",
    "        if f.mode == 'r':\n",
    "            x = f.read()\n",
    "            li = x.split(\"\\n\")\n",
    "    return len(li)    \n",
    "filename = input('enter the filename :')\n",
    "countoflines(filename)"
   ]
  },
  {
   "cell_type": "code",
   "execution_count": 1,
   "metadata": {},
   "outputs": [
    {
     "name": "stdout",
     "output_type": "stream",
     "text": [
      "enter the file name :file2.txt\n"
     ]
    },
    {
     "data": {
      "text/plain": [
       "'upper case - 0 , lower case - 127'"
      ]
     },
     "execution_count": 1,
     "metadata": {},
     "output_type": "execute_result"
    }
   ],
   "source": [
    "def casecount(filename):\n",
    "    cntupper = 0\n",
    "    cntlower = 0\n",
    "    with open(filename,'r') as f:\n",
    "         if f.mode == 'r':\n",
    "            x = f.read()\n",
    "            li = list(x)\n",
    "    for i in li:\n",
    "        if i.isupper():\n",
    "            cntupper += 1\n",
    "        elif i.islower():\n",
    "            cntlower += 1 \n",
    "    output = 'upper case - {0} , lower case - {1}' .format (cntupper,cntlower)\n",
    "    return output\n",
    "filename = input('enter the file name :')\n",
    "casecount(filename)"
   ]
  },
  {
   "cell_type": "code",
   "execution_count": 4,
   "metadata": {},
   "outputs": [
    {
     "name": "stdout",
     "output_type": "stream",
     "text": [
      " Volume in drive C has no label.\n",
      " Volume Serial Number is C092-631F\n",
      "\n",
      " Directory of C:\\Users\\SYS-57\\Desktop\\python\n",
      "\n",
      "11-07-2019  12:39    <DIR>          .\n",
      "11-07-2019  12:39    <DIR>          ..\n",
      "05-07-2019  16:15             9,377 .ipynb\n",
      "11-07-2019  09:12    <DIR>          .ipynb_checkpoints\n",
      "06-07-2019  11:46             6,777 basics.ipynb\n",
      "11-07-2019  09:54                12 file1.txt\n",
      "11-07-2019  10:30               202 file2.txt\n",
      "05-07-2019  15:06             6,958 Untitled.ipynb\n",
      "08-07-2019  15:34            12,632 Untitled1.ipynb\n",
      "09-07-2019  15:19             8,465 Untitled2.ipynb\n",
      "11-07-2019  09:15            10,541 Untitled3.ipynb\n",
      "10-07-2019  15:10             1,886 Untitled4.ipynb\n",
      "11-07-2019  12:39            10,824 Untitled5.ipynb\n",
      "              10 File(s)         67,674 bytes\n",
      "               3 Dir(s)  73,375,293,440 bytes free\n"
     ]
    }
   ],
   "source": [
    "ls"
   ]
  },
  {
   "cell_type": "code",
   "execution_count": 7,
   "metadata": {},
   "outputs": [
    {
     "name": "stdout",
     "output_type": "stream",
     "text": [
      "C:\\Users\\SYS-57\\Desktop\\pythonprogram\n"
     ]
    }
   ],
   "source": [
    "cd pythonprogram"
   ]
  },
  {
   "cell_type": "code",
   "execution_count": 8,
   "metadata": {},
   "outputs": [
    {
     "name": "stdout",
     "output_type": "stream",
     "text": [
      "C:\\Users\\SYS-57\\Desktop\\pythonprogram\\git\n"
     ]
    }
   ],
   "source": [
    "cd git"
   ]
  },
  {
   "cell_type": "code",
   "execution_count": 9,
   "metadata": {},
   "outputs": [
    {
     "name": "stdout",
     "output_type": "stream",
     "text": [
      "C:\\Users\\SYS-57\\Desktop\\pythonprogram\n"
     ]
    }
   ],
   "source": [
    "cd .."
   ]
  },
  {
   "cell_type": "code",
   "execution_count": 10,
   "metadata": {},
   "outputs": [
    {
     "data": {
      "text/plain": [
       "['.git', 'data.txt', 'git', 'gitam-python']"
      ]
     },
     "execution_count": 10,
     "metadata": {},
     "output_type": "execute_result"
    }
   ],
   "source": [
    "import os\n",
    "os.listdir('git/')"
   ]
  },
  {
   "cell_type": "code",
   "execution_count": 18,
   "metadata": {},
   "outputs": [
    {
     "name": "stdout",
     "output_type": "stream",
     "text": [
      ".ipynb\n",
      ".ipynb_checkpoints\n",
      "basics.ipynb\n",
      "file1.txt\n",
      "file2.txt\n",
      "Untitled.ipynb\n",
      "Untitled1.ipynb\n",
      "Untitled2.ipynb\n",
      "Untitled3.ipynb\n",
      "Untitled4.ipynb\n",
      "Untitled5.ipynb\n"
     ]
    }
   ],
   "source": [
    "from pathlib import Path\n",
    "li=Path('./')\n",
    "for i in li.iterdir():\n",
    "        print(i.name)"
   ]
  },
  {
   "cell_type": "code",
   "execution_count": 23,
   "metadata": {},
   "outputs": [
    {
     "name": "stdout",
     "output_type": "stream",
     "text": [
      " Volume in drive C has no label.\n",
      " Volume Serial Number is C092-631F\n",
      "\n",
      " Directory of C:\\Users\\SYS-57\\Desktop\\python\n",
      "\n",
      "11-07-2019  15:35    <DIR>          .\n",
      "11-07-2019  15:35    <DIR>          ..\n",
      "05-07-2019  16:15             9,377 .ipynb\n",
      "11-07-2019  09:12    <DIR>          .ipynb_checkpoints\n",
      "06-07-2019  11:46             6,777 basics.ipynb\n",
      "11-07-2019  09:54                12 file1.txt\n",
      "11-07-2019  10:30               202 file2.txt\n",
      "05-07-2019  15:06             6,958 Untitled.ipynb\n",
      "08-07-2019  15:34            12,632 Untitled1.ipynb\n",
      "09-07-2019  15:19             8,465 Untitled2.ipynb\n",
      "11-07-2019  09:15            10,541 Untitled3.ipynb\n",
      "10-07-2019  15:10             1,886 Untitled4.ipynb\n",
      "11-07-2019  15:35            13,654 Untitled5.ipynb\n",
      "              10 File(s)         70,504 bytes\n",
      "               3 Dir(s)  73,430,773,760 bytes free\n"
     ]
    }
   ],
   "source": [
    "ls"
   ]
  },
  {
   "cell_type": "code",
   "execution_count": 23,
   "metadata": {},
   "outputs": [
    {
     "ename": "SyntaxError",
     "evalue": "unexpected EOF while parsing (<ipython-input-23-7d646deb1e2b>, line 4)",
     "output_type": "error",
     "traceback": [
      "\u001b[1;36m  File \u001b[1;32m\"<ipython-input-23-7d646deb1e2b>\"\u001b[1;36m, line \u001b[1;32m4\u001b[0m\n\u001b[1;33m    if os.Path.isfile:\u001b[0m\n\u001b[1;37m                      ^\u001b[0m\n\u001b[1;31mSyntaxError\u001b[0m\u001b[1;31m:\u001b[0m unexpected EOF while parsing\n"
     ]
    }
   ],
   "source": [
    "import os\n",
    "dirPath = 'git/'\n",
    "for i in os.listdir(dirPath):\n",
    "    if os.Path.isfile:"
   ]
  }
 ],
 "metadata": {
  "kernelspec": {
   "display_name": "Python 3",
   "language": "python",
   "name": "python3"
  },
  "language_info": {
   "codemirror_mode": {
    "name": "ipython",
    "version": 3
   },
   "file_extension": ".py",
   "mimetype": "text/x-python",
   "name": "python",
   "nbconvert_exporter": "python",
   "pygments_lexer": "ipython3",
   "version": "3.7.3"
  }
 },
 "nbformat": 4,
 "nbformat_minor": 2
}
